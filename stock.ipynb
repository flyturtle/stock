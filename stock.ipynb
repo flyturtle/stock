{
 "cells": [
  {
   "cell_type": "code",
   "execution_count": 41,
   "metadata": {},
   "outputs": [
    {
     "name": "stdout",
     "output_type": "stream",
     "text": [
      "Requirement already satisfied: requests in /usr/lib/python3/dist-packages (2.22.0)\n",
      "Collecting pandas\n",
      "  Downloading pandas-1.1.0-cp38-cp38-manylinux1_x86_64.whl (10.3 MB)\n",
      "\u001b[K     |████████████████████████████████| 10.3 MB 1.8 MB/s eta 0:00:01\n",
      "\u001b[?25hRequirement already satisfied: numpy>=1.15.4 in /usr/lib/python3/dist-packages (from pandas) (1.17.4)\n",
      "Requirement already satisfied: pytz>=2017.2 in /usr/lib/python3/dist-packages (from pandas) (2019.3)\n",
      "Requirement already satisfied: python-dateutil>=2.7.3 in /usr/lib/python3/dist-packages (from pandas) (2.7.3)\n",
      "Installing collected packages: pandas\n",
      "Successfully installed pandas-1.1.0\n"
     ]
    }
   ],
   "source": [
    "!pip3 install requests\n",
    "!pip3 install pandas"
   ]
  },
  {
   "cell_type": "code",
   "execution_count": 81,
   "metadata": {},
   "outputs": [
    {
     "name": "stdout",
     "output_type": "stream",
     "text": [
      "{\"data4\":[[\"寶島股價報酬指數\n",
      "Date: 20200731 stock is downloaded !\n"
     ]
    }
   ],
   "source": [
    "import requests\n",
    "import pandas as pd\n",
    "\n",
    "dt_stock = \"20200731\"\n",
    "rg = requests.post(\"https://www.twse.com.tw/exchangeReport/MI_INDEX?response=json&date=\" + dt_stock +\"&type=ALL\")\n",
    "#rg.encoding = \"ms950\"\n",
    "print(rg.text[:20])\n",
    "with open('/home/flyt/Documents/stock/'+ dt_stock +'.json' , 'w+') as f:\n",
    "    f.write(rg.text)\n",
    "    f.close()\n",
    "    print( \"Date: \" + dt_stock + \" stock is downloaded !\")"
   ]
  },
  {
   "cell_type": "code",
   "execution_count": 52,
   "metadata": {
    "scrolled": true
   },
   "outputs": [
    {
     "name": "stdout",
     "output_type": "stream",
     "text": [
      "<class 'list'>\n"
     ]
    }
   ],
   "source": [
    "\n",
    "#for jk in rg.json().keys():\n",
    "#    print(jk)\n",
    "#get fields9\n",
    "\n",
    "#print(rg.json()[\"fields9\"],rg.json()[\"data9\"][:10])\n",
    "dt9 = rg.json()[\"data9\"]\n",
    "print(type(rg.json()[\"data9\"]))\n",
    "#for i in dt9:\n",
    "#    print(type(i))"
   ]
  },
  {
   "cell_type": "code",
   "execution_count": null,
   "metadata": {},
   "outputs": [],
   "source": [
    "\n"
   ]
  },
  {
   "cell_type": "code",
   "execution_count": null,
   "metadata": {},
   "outputs": [],
   "source": []
  }
 ],
 "metadata": {
  "kernelspec": {
   "display_name": "Python 3",
   "language": "python",
   "name": "python3"
  },
  "language_info": {
   "codemirror_mode": {
    "name": "ipython",
    "version": 3
   },
   "file_extension": ".py",
   "mimetype": "text/x-python",
   "name": "python",
   "nbconvert_exporter": "python",
   "pygments_lexer": "ipython3",
   "version": "3.8.2"
  }
 },
 "nbformat": 4,
 "nbformat_minor": 4
}
